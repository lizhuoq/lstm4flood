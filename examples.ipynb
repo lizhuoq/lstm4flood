{
 "cells": [
  {
   "cell_type": "code",
   "execution_count": 5,
   "metadata": {},
   "outputs": [
    {
     "name": "stdout",
     "output_type": "stream",
     "text": [
      "torch.Size([2, 8, 10])\n"
     ]
    }
   ],
   "source": [
    "from lstm_v1 import Model\n",
    "import torch\n",
    "\n",
    "configs = {\n",
    "    \"static_channels\": 6, \n",
    "    \"dynamic_history_channels\": 7, \n",
    "    \"dynamic_future_channels\": 8, \n",
    "    \"d_model\": 128, \n",
    "    \"layers\": 3, \n",
    "    \"dropout\": 0.2, \n",
    "    \"out_channels\": 10, \n",
    "    \"tgt_len\": 8\n",
    "}\n",
    "model = Model(**configs)\n",
    "\n",
    "static_features = torch.rand(2, 6)\n",
    "history_features = torch.rand(2, 360, 7)\n",
    "future_features = torch.rand(2, 7, 8)\n",
    "\n",
    "output = model(static_features, history_features, future_features)\n",
    "print(output.shape)"
   ]
  },
  {
   "cell_type": "code",
   "execution_count": 6,
   "metadata": {},
   "outputs": [
    {
     "name": "stdout",
     "output_type": "stream",
     "text": [
      "torch.Size([2, 8, 10])\n"
     ]
    }
   ],
   "source": [
    "from lstm_v2 import Model\n",
    "\n",
    "configs = {\n",
    "    \"static_channels\": 6, \n",
    "    \"history_channels\": 7, \n",
    "    \"future_channels\": 8, \n",
    "    \"enc_channels\": 128, \n",
    "    \"dec_channels\": 64, \n",
    "    \"enc_layers\": 3, \n",
    "    \"dec_layers\": 2, \n",
    "    \"dropout\": 0.2, \n",
    "    \"out_channels\": 10, \n",
    "    \"tgt_len\": 8\n",
    "}\n",
    "model = Model(**configs)\n",
    "\n",
    "static_features = torch.rand(2, 6)\n",
    "history_features = torch.rand(2, 360, 7)\n",
    "future_features = torch.rand(2, 360, 8)\n",
    "\n",
    "output = model(static_features, history_features, future_features)\n",
    "print(output.shape)"
   ]
  }
 ],
 "metadata": {
  "kernelspec": {
   "display_name": "lstm4flood",
   "language": "python",
   "name": "python3"
  },
  "language_info": {
   "codemirror_mode": {
    "name": "ipython",
    "version": 3
   },
   "file_extension": ".py",
   "mimetype": "text/x-python",
   "name": "python",
   "nbconvert_exporter": "python",
   "pygments_lexer": "ipython3",
   "version": "3.10.14"
  }
 },
 "nbformat": 4,
 "nbformat_minor": 2
}
